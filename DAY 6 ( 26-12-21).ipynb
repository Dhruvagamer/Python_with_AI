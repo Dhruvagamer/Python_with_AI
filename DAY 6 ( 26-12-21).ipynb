{
 "cells": [
  {
   "cell_type": "markdown",
   "id": "3550356c",
   "metadata": {},
   "source": [
    "# Python Operations\n",
    " - To perform operations on variables and values"
   ]
  },
  {
   "cell_type": "markdown",
   "id": "ad1dd276",
   "metadata": {},
   "source": [
    "# Arithmetic Operations\n",
    " - used to perform mathematical operations\n",
    "  - **+** - Addition\n",
    "  - **-** - Subtraction\n",
    "  - **/** - Division\n",
    "  - **%** - Modulus\n",
    "  - **//** - floor division\n",
    "  "
   ]
  },
  {
   "cell_type": "code",
   "execution_count": 1,
   "id": "a47342b7",
   "metadata": {},
   "outputs": [
    {
     "name": "stdout",
     "output_type": "stream",
     "text": [
      "15\n",
      "5\n",
      "50\n",
      "2.0\n",
      "0\n",
      "100000\n",
      "2\n"
     ]
    }
   ],
   "source": [
    "x = 10\n",
    "y = 5\n",
    "print(x+y)\n",
    "print(x-y)\n",
    "print(x*y)\n",
    "print(x/y)\n",
    "print(x%y)\n",
    "print(x**y)\n",
    "print(x//y)\n"
   ]
  },
  {
   "cell_type": "markdown",
   "id": "c3dafed2",
   "metadata": {},
   "source": [
    "# Assignment Operations\n",
    "  - used to assign values to variables\n",
    "  - Operators:\n",
    "   - **'='**\n",
    "   - **'+='**\n",
    "   - **'-='**\n",
    "   - **'*='**\n",
    "   - **'/='**\n",
    "   - **'%='**\n",
    "   - **'//'**\n",
    "   "
   ]
  },
  {
   "cell_type": "code",
   "execution_count": 2,
   "id": "af8cc29a",
   "metadata": {},
   "outputs": [
    {
     "name": "stdout",
     "output_type": "stream",
     "text": [
      "7\n",
      "5\n",
      "20\n",
      "10.0\n",
      "0.0\n",
      "625\n",
      "25\n"
     ]
    }
   ],
   "source": [
    "x = 3\n",
    "x +=4 #x = x+4\n",
    "print(x)\n",
    "x -= 2\n",
    "print(x)\n",
    "x *= 4\n",
    "print(x)\n",
    "x /= 2\n",
    "print(x)\n",
    "x %= 5\n",
    "print(x)\n",
    "x = 5\n",
    "x **= 4\n",
    "print(x)\n",
    "x //= 25\n",
    "print(x)"
   ]
  },
  {
   "cell_type": "markdown",
   "id": "95500ebe",
   "metadata": {},
   "source": [
    "# Comparison Operators\n",
    " - used to compare values\n",
    " - operators:\n",
    "    - **'=='**\n",
    "    - **'!='**\n",
    "    - **'<'**\n",
    "    - **'>'**\n",
    "    - **'<='**\n",
    "    - **'>='**"
   ]
  },
  {
   "cell_type": "code",
   "execution_count": 3,
   "id": "2ae2c4a7",
   "metadata": {},
   "outputs": [
    {
     "name": "stdout",
     "output_type": "stream",
     "text": [
      "False\n",
      "True\n",
      "True\n",
      "False\n",
      "True\n",
      "False\n"
     ]
    }
   ],
   "source": [
    "x = 4\n",
    "y = 17\n",
    "print(x==y)\n",
    "print(x!=y)\n",
    "print(x<y)\n",
    "print(x>y)\n",
    "print(x<=y)\n",
    "print(x>=y)"
   ]
  },
  {
   "cell_type": "markdown",
   "id": "dba751b1",
   "metadata": {},
   "source": [
    "# Logical Operators\n",
    " -  used to compare conditional statements\n",
    " -  operations:\n",
    "   - **'and'**\n",
    "   - **'or'**\n",
    "   - **'not'**"
   ]
  },
  {
   "cell_type": "code",
   "execution_count": 6,
   "id": "8fb10434",
   "metadata": {},
   "outputs": [
    {
     "name": "stdout",
     "output_type": "stream",
     "text": [
      "False\n",
      "True\n",
      "False\n"
     ]
    }
   ],
   "source": [
    "x = 4\n",
    "print(x > 3 and x > 7)\n",
    "print(x > 3 and x < 7)\n",
    "print(not(x > 3 and x < 7))"
   ]
  },
  {
   "cell_type": "markdown",
   "id": "30224607",
   "metadata": {},
   "source": [
    "# Identity Operators\n",
    " -  used to compare objects\n",
    "   - **'is'**\n",
    "   - **'is not'**"
   ]
  },
  {
   "cell_type": "code",
   "execution_count": 7,
   "id": "3afc455c",
   "metadata": {},
   "outputs": [
    {
     "name": "stdout",
     "output_type": "stream",
     "text": [
      "True\n",
      "False\n",
      "True\n"
     ]
    }
   ],
   "source": [
    "a = 2\n",
    "b = 2\n",
    "c = 6 \n",
    "print(a is b)\n",
    "print(a is c)\n",
    "print(a is not c )"
   ]
  },
  {
   "cell_type": "markdown",
   "id": "47822dc7",
   "metadata": {},
   "source": [
    "# Membership Operators\n",
    " - used to test given sequence is presented in object\n",
    "  - operators:\n",
    "   - **'in'**\n",
    "   - **'not in'**"
   ]
  },
  {
   "cell_type": "code",
   "execution_count": 8,
   "id": "ce2bfb9a",
   "metadata": {},
   "outputs": [
    {
     "name": "stdout",
     "output_type": "stream",
     "text": [
      "True\n",
      "False\n",
      "False\n",
      "True\n"
     ]
    }
   ],
   "source": [
    "a = \"python\"\n",
    "print(\"y\" in a)\n",
    "print(\"s\" in a)\n",
    "print(\"tn\" in  a)\n",
    "print(\"ahj\" not in a)"
   ]
  },
  {
   "cell_type": "markdown",
   "id": "029ca7d6",
   "metadata": {},
   "source": [
    "# Control Flow Statements\n",
    " - conditional statements\n",
    "   - if-else statement\n",
    "   - LOOPING statement\n",
    "   - while loop statement\n",
    "   - for loop statement"
   ]
  },
  {
   "cell_type": "markdown",
   "id": "cd2a707e",
   "metadata": {},
   "source": [
    "# IF - Else statements :"
   ]
  },
  {
   "cell_type": "code",
   "execution_count": 9,
   "id": "107473ac",
   "metadata": {},
   "outputs": [
    {
     "ename": "SyntaxError",
     "evalue": "invalid syntax (Temp/ipykernel_1528/1447812410.py, line 4)",
     "output_type": "error",
     "traceback": [
      "\u001b[1;36m  File \u001b[1;32m\"C:\\Users\\user10\\AppData\\Local\\Temp/ipykernel_1528/1447812410.py\"\u001b[1;36m, line \u001b[1;32m4\u001b[0m\n\u001b[1;33m    elif:\u001b[0m\n\u001b[1;37m        ^\u001b[0m\n\u001b[1;31mSyntaxError\u001b[0m\u001b[1;31m:\u001b[0m invalid syntax\n"
     ]
    }
   ],
   "source": [
    "#syntax :\n",
    "if boolean_condition:\n",
    "    statement\n",
    "elif:\n",
    "    statement\n",
    "else:\n",
    "    statement\n",
    "   \n"
   ]
  },
  {
   "cell_type": "code",
   "execution_count": 14,
   "id": "03b552cb",
   "metadata": {},
   "outputs": [
    {
     "name": "stdout",
     "output_type": "stream",
     "text": [
      "enter a number :5\n",
      "Odd number\n"
     ]
    }
   ],
   "source": [
    "# check given is even or odd\n",
    "n = int(input(\"enter a number :\"))\n",
    "if n%2 ==0: \n",
    "    print(\"even number\")\n",
    "else: \n",
    "    print(\"Odd number\")\n",
    "    "
   ]
  },
  {
   "cell_type": "code",
   "execution_count": 16,
   "id": "a6fa148a",
   "metadata": {},
   "outputs": [
    {
     "name": "stdout",
     "output_type": "stream",
     "text": [
      "enter a number:3\n",
      "No\n"
     ]
    }
   ],
   "source": [
    "# check given multiples of both 3 and 5\n",
    "n = int(input(\"enter a number:\"))\n",
    "if n%3==0 and n%5==0:\n",
    "   print(\"yes\")\n",
    "else:\n",
    "    print(\"No\")"
   ]
  },
  {
   "cell_type": "code",
   "execution_count": 23,
   "id": "8d8f0f02",
   "metadata": {},
   "outputs": [
    {
     "name": "stdout",
     "output_type": "stream",
     "text": [
      "enter a number:5\n",
      "postive\n"
     ]
    }
   ],
   "source": [
    "# check given number is positive number, negative number, zero\n",
    "n = int(input(\"enter a number:\"))\n",
    "if n>0:\n",
    "    print(\"postive\")\n",
    "elif n<0:   \n",
    "    print(\"negative\")\n",
    "else:\n",
    "    print(\"zero\")\n"
   ]
  },
  {
   "cell_type": "code",
   "execution_count": 35,
   "id": "19e5f50d",
   "metadata": {},
   "outputs": [
    {
     "name": "stdout",
     "output_type": "stream",
     "text": [
      "enter first number4\n",
      "Enter second number8\n",
      "Enter third number4\n",
      "b is large\n"
     ]
    }
   ],
   "source": [
    "# find large number by giving 3 inputs\n",
    "a = int(input(\"enter first number\"))\n",
    "b = int(input(\"Enter second number\"))\n",
    "c = int(input(\"Enter third number\"))\n",
    "if a>b and a>c:\n",
    "    print(\"a is large\")\n",
    "elif b>c and b>a:\n",
    "    print(\"b is large\")\n",
    "else:\n",
    "    print(c)\n",
    "\n",
    "    \n",
    "    \n",
    "    \n"
   ]
  },
  {
   "cell_type": "code",
   "execution_count": 44,
   "id": "88a2bf28",
   "metadata": {},
   "outputs": [
    {
     "name": "stdout",
     "output_type": "stream",
     "text": [
      "Enter the grade :45\n",
      "E\n"
     ]
    }
   ],
   "source": [
    "# Find grading\n",
    "# below 25 -- F\n",
    "# 25 to 45 -- E\n",
    "# 45 to 50 -- D\n",
    "# 50 to 60 -- C\n",
    "# 60 to 80 -- B\n",
    "# above 80 -- A\n",
    "a = int(input(\"Enter the grade :\"))\n",
    "if a<25:\n",
    "    print(\"F\")\n",
    "elif a<=45:\n",
    "    print(\"E\")\n",
    "elif a<=50:\n",
    "    print(\"D\")\n",
    "elif a<=60:\n",
    "    print(\"c\")\n",
    "elif a<=80:\n",
    "    print(\"B\")\n",
    "elif a>=80:\n",
    "    print(\"A\")\n",
    "\n",
    "\n"
   ]
  },
  {
   "cell_type": "markdown",
   "id": "42ee2688",
   "metadata": {},
   "source": [
    "# While Loop Statement"
   ]
  },
  {
   "cell_type": "code",
   "execution_count": 46,
   "id": "bf6ee210",
   "metadata": {},
   "outputs": [
    {
     "ename": "NameError",
     "evalue": "name 'boolean_condition' is not defined",
     "output_type": "error",
     "traceback": [
      "\u001b[1;31m---------------------------------------------------------------------------\u001b[0m",
      "\u001b[1;31mNameError\u001b[0m                                 Traceback (most recent call last)",
      "\u001b[1;32m~\\AppData\\Local\\Temp/ipykernel_1528/3978371384.py\u001b[0m in \u001b[0;36m<module>\u001b[1;34m\u001b[0m\n\u001b[0;32m      1\u001b[0m \u001b[1;31m#syntax\u001b[0m\u001b[1;33m\u001b[0m\u001b[1;33m\u001b[0m\u001b[0m\n\u001b[1;32m----> 2\u001b[1;33m \u001b[1;32mwhile\u001b[0m \u001b[0mboolean_condition\u001b[0m\u001b[1;33m:\u001b[0m\u001b[1;33m\u001b[0m\u001b[1;33m\u001b[0m\u001b[0m\n\u001b[0m\u001b[0;32m      3\u001b[0m     \u001b[0mstatement\u001b[0m\u001b[1;33m\u001b[0m\u001b[1;33m\u001b[0m\u001b[0m\n\u001b[0;32m      4\u001b[0m \u001b[1;33m\u001b[0m\u001b[0m\n",
      "\u001b[1;31mNameError\u001b[0m: name 'boolean_condition' is not defined"
     ]
    }
   ],
   "source": [
    "#syntax\n",
    "while boolean_condition:\n",
    "    statement\n",
    "    "
   ]
  },
  {
   "cell_type": "code",
   "execution_count": 47,
   "id": "78a53f24",
   "metadata": {},
   "outputs": [
    {
     "name": "stdout",
     "output_type": "stream",
     "text": [
      "Python\n",
      "Python\n",
      "Python\n",
      "Python\n",
      "Python\n"
     ]
    }
   ],
   "source": [
    "i = 0\n",
    "while i<5:\n",
    "    print(\"Python\")\n",
    "    i=i+1"
   ]
  },
  {
   "cell_type": "code",
   "execution_count": 48,
   "id": "ad0fe946",
   "metadata": {},
   "outputs": [
    {
     "name": "stdout",
     "output_type": "stream",
     "text": [
      "1\n",
      "2\n",
      "3\n",
      "4\n",
      "5\n",
      "6\n",
      "7\n",
      "8\n",
      "9\n",
      "10\n"
     ]
    }
   ],
   "source": [
    "#print 1 to 10 numbers\n",
    "i = 1\n",
    "while i<11:\n",
    "    print(i)\n",
    "    i=i+1"
   ]
  },
  {
   "cell_type": "code",
   "execution_count": 2,
   "id": "6cf3ca5b",
   "metadata": {},
   "outputs": [
    {
     "name": "stdout",
     "output_type": "stream",
     "text": [
      "2 4 6 8 10 "
     ]
    }
   ],
   "source": [
    "# print even numbers from 1 to 10\n",
    "i = 1\n",
    "while i<=10:\n",
    "    if i%2==0:\n",
    "        print(i,end=\" \")\n",
    "    i = i+1 \n",
    "\n"
   ]
  },
  {
   "cell_type": "code",
   "execution_count": null,
   "id": "ffc1a9cc",
   "metadata": {},
   "outputs": [
    {
     "name": "stdout",
     "output_type": "stream",
     "text": [
      "6\n",
      "1\n",
      "2\n",
      "3\n"
     ]
    }
   ],
   "source": [
    "# Input : 6 o/p : 1 2 3 6\n",
    "i = 1\n",
    "n = int(input())\n",
    "while i<=n:\n",
    "    if n%i==0:\n",
    "        print(i)\n",
    "        i=i+1\n",
    "        \n",
    "        \n",
    "                           "
   ]
  },
  {
   "cell_type": "code",
   "execution_count": null,
   "id": "edd5a86a",
   "metadata": {},
   "outputs": [],
   "source": []
  },
  {
   "cell_type": "code",
   "execution_count": null,
   "id": "3af1a393",
   "metadata": {},
   "outputs": [],
   "source": []
  }
 ],
 "metadata": {
  "kernelspec": {
   "display_name": "Python 3 (ipykernel)",
   "language": "python",
   "name": "python3"
  },
  "language_info": {
   "codemirror_mode": {
    "name": "ipython",
    "version": 3
   },
   "file_extension": ".py",
   "mimetype": "text/x-python",
   "name": "python",
   "nbconvert_exporter": "python",
   "pygments_lexer": "ipython3",
   "version": "3.9.7"
  }
 },
 "nbformat": 4,
 "nbformat_minor": 5
}
