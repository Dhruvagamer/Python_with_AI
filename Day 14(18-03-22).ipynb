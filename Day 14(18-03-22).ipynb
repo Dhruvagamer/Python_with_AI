{
 "cells": [
  {
   "cell_type": "code",
   "execution_count": 5,
   "id": "30b1b6e4",
   "metadata": {},
   "outputs": [],
   "source": [
    "# Square Of Squares\n",
    "import turtle\n",
    "t = turtle.Turtle()\n",
    "t.speed(100)\n",
    "t.pencolor(\"Blue\")\n",
    "\n",
    "def square(size):\n",
    "    for i in range(4):\n",
    "        t.forward(size)\n",
    "        t.right(90)\n",
    "square(146)\n",
    "square(126)\n",
    "square(96)\n"
   ]
  },
  {
   "cell_type": "markdown",
   "id": "008df036",
   "metadata": {},
   "source": [
    "# Python Statistics Module\n",
    "- used to calculate mathematical statistics of arithmetic operations\n",
    "  - mean\n",
    "  - mode\n",
    "  - variance\n",
    "  - median"
   ]
  },
  {
   "cell_type": "code",
   "execution_count": 6,
   "id": "514040ca",
   "metadata": {},
   "outputs": [
    {
     "name": "stdout",
     "output_type": "stream",
     "text": [
      "[1, 2, 3, 4, 5, 6, 7, 8, 9, 10, 11, 12, 13, 14, 15, 16, 17, 18, 19, 20]\n"
     ]
    }
   ],
   "source": [
    "import statistics as st\n",
    "l1 = list(range(1,21))\n",
    "print(l1)"
   ]
  },
  {
   "cell_type": "code",
   "execution_count": 8,
   "id": "978b16c8",
   "metadata": {},
   "outputs": [
    {
     "name": "stdout",
     "output_type": "stream",
     "text": [
      "10.5\n",
      "10.5\n"
     ]
    }
   ],
   "source": [
    "# Mean\n",
    "print(st.mean(l1))\n",
    "print(sum(l1)/len(l1))"
   ]
  },
  {
   "cell_type": "code",
   "execution_count": 9,
   "id": "370a0549",
   "metadata": {},
   "outputs": [
    {
     "name": "stdout",
     "output_type": "stream",
     "text": [
      "3\n"
     ]
    }
   ],
   "source": [
    "# Median\n",
    "l2 = [1,2,3,4,5]\n",
    "print(st.median(l2))"
   ]
  },
  {
   "cell_type": "code",
   "execution_count": 10,
   "id": "8e776aab",
   "metadata": {},
   "outputs": [
    {
     "name": "stdout",
     "output_type": "stream",
     "text": [
      "3\n"
     ]
    }
   ],
   "source": [
    "# Mode\n",
    "l3 = [ 1,2,3,3,3,3,3,4,5,6]\n",
    "print(st.mode(l3))"
   ]
  },
  {
   "cell_type": "code",
   "execution_count": 11,
   "id": "19d9260d",
   "metadata": {},
   "outputs": [
    {
     "name": "stdout",
     "output_type": "stream",
     "text": [
      "35.0\n"
     ]
    }
   ],
   "source": [
    "# Variance\n",
    "print(st.variance(l1))"
   ]
  },
  {
   "cell_type": "markdown",
   "id": "5f3c8f07",
   "metadata": {},
   "source": [
    "# Random Module\n",
    "- used to get random numbers"
   ]
  },
  {
   "cell_type": "code",
   "execution_count": 13,
   "id": "54c47f0c",
   "metadata": {},
   "outputs": [
    {
     "data": {
      "text/plain": [
       "0.6698343096861413"
      ]
     },
     "execution_count": 13,
     "metadata": {},
     "output_type": "execute_result"
    }
   ],
   "source": [
    "import random as rd\n",
    "rd.random()"
   ]
  },
  {
   "cell_type": "code",
   "execution_count": 15,
   "id": "ac318df7",
   "metadata": {},
   "outputs": [
    {
     "name": "stdout",
     "output_type": "stream",
     "text": [
      "18\n"
     ]
    }
   ],
   "source": [
    "# Randint()\n",
    "print(rd.randint(1,22))\n"
   ]
  },
  {
   "cell_type": "code",
   "execution_count": 16,
   "id": "a69e67ff",
   "metadata": {},
   "outputs": [
    {
     "name": "stdout",
     "output_type": "stream",
     "text": [
      "13\n"
     ]
    }
   ],
   "source": [
    "# Randrange\n",
    "print(rd.randrange(1,22,2))"
   ]
  },
  {
   "cell_type": "code",
   "execution_count": 17,
   "id": "8d7ead4a",
   "metadata": {},
   "outputs": [
    {
     "name": "stdout",
     "output_type": "stream",
     "text": [
      "2\n"
     ]
    }
   ],
   "source": [
    "# Choice\n",
    "l4 = [1,2,3,4,5,6,7,8]\n",
    "print(rd.choice(l4))"
   ]
  },
  {
   "cell_type": "code",
   "execution_count": 19,
   "id": "23ce8d64",
   "metadata": {},
   "outputs": [
    {
     "name": "stdout",
     "output_type": "stream",
     "text": [
      "[8, 5, 1, 2, 6, 4, 3, 7]\n"
     ]
    }
   ],
   "source": [
    "# Shuffle\n",
    "(rd.shuffle(l4))\n",
    "print(l4)"
   ]
  },
  {
   "cell_type": "markdown",
   "id": "485941b0",
   "metadata": {},
   "source": [
    "# Numpy Module\n",
    "- mostly used to work with arrays\n",
    "- numpy stands for numerical python"
   ]
  },
  {
   "cell_type": "code",
   "execution_count": 21,
   "id": "9f0d20ff",
   "metadata": {},
   "outputs": [
    {
     "name": "stdout",
     "output_type": "stream",
     "text": [
      "[1 2 3 4 5]\n",
      "<class 'numpy.ndarray'>\n"
     ]
    }
   ],
   "source": [
    "import numpy as np\n",
    "l = [1,2,3,4,5]\n",
    "arr = np.array(l)\n",
    "print(arr)\n",
    "print(type(arr))"
   ]
  },
  {
   "cell_type": "code",
   "execution_count": 23,
   "id": "ab6ec320",
   "metadata": {},
   "outputs": [
    {
     "name": "stdout",
     "output_type": "stream",
     "text": [
      "[1, 2, 3, 4, 5, 6, 7, 8, 9, 10, 11, 12, 13, 14, 15, 16, 17, 18, 19, 20]\n",
      "<class 'list'>\n"
     ]
    }
   ],
   "source": [
    "l = list(range(1,21))\n",
    "print(l)\n",
    "print(type(l))"
   ]
  },
  {
   "cell_type": "code",
   "execution_count": 25,
   "id": "9fc70cf8",
   "metadata": {},
   "outputs": [
    {
     "name": "stdout",
     "output_type": "stream",
     "text": [
      "[ 1  2  3  4  5  6  7  8  9 10 11 12 13 14 15 16 17 18 19 20]\n",
      "<class 'numpy.ndarray'>\n"
     ]
    }
   ],
   "source": [
    "arr2 = np.arange(1,21)\n",
    "print(arr2)\n",
    "print(type(arr2))"
   ]
  },
  {
   "cell_type": "markdown",
   "id": "a3c14cdc",
   "metadata": {},
   "source": [
    "# Dimensions in Arrays"
   ]
  },
  {
   "cell_type": "code",
   "execution_count": 26,
   "id": "3a4b1250",
   "metadata": {},
   "outputs": [
    {
     "name": "stdout",
     "output_type": "stream",
     "text": [
      "[1 2 3 4 5]\n"
     ]
    }
   ],
   "source": [
    "# 1-D\n",
    "import numpy as np\n",
    "arr = np.array([1,2,3,4,5])\n",
    "print(arr)"
   ]
  },
  {
   "cell_type": "code",
   "execution_count": 28,
   "id": "a3396dbe",
   "metadata": {},
   "outputs": [
    {
     "name": "stdout",
     "output_type": "stream",
     "text": [
      "[[1 2 3 4]\n",
      " [5 6 4 7]]\n"
     ]
    }
   ],
   "source": [
    "# 2-D\n",
    "arr1 = np.array([[1,2,3,4],[5,6,4,7]])\n",
    "print(arr1)"
   ]
  },
  {
   "cell_type": "code",
   "execution_count": 29,
   "id": "eeb17c36",
   "metadata": {},
   "outputs": [
    {
     "name": "stdout",
     "output_type": "stream",
     "text": [
      "[[[1 2 3]\n",
      "  [4 5 6]]\n",
      "\n",
      " [[7 8 9]\n",
      "  [9 2 3]]]\n"
     ]
    }
   ],
   "source": [
    "# 3-D\n",
    "arr3 = np.array([[[1,2,3],[4,5,6]],[[7,8,9],[9,2,3]]])\n",
    "print(arr3)"
   ]
  },
  {
   "cell_type": "code",
   "execution_count": 31,
   "id": "b2edaa27",
   "metadata": {},
   "outputs": [
    {
     "name": "stdout",
     "output_type": "stream",
     "text": [
      "2\n"
     ]
    }
   ],
   "source": [
    "# Access the elements\n",
    "# 1-d\n",
    "import numpy as np\n",
    "arr = np.array([1,2,3,4,5])\n",
    "print(arr[1])\n"
   ]
  },
  {
   "cell_type": "code",
   "execution_count": 34,
   "id": "1ffb919f",
   "metadata": {},
   "outputs": [
    {
     "name": "stdout",
     "output_type": "stream",
     "text": [
      "7\n"
     ]
    }
   ],
   "source": [
    "# 2-D\n",
    "arr1 = np.array([[1,2,3,4],[5,6,4,7]])\n",
    "print(arr1[1,3])"
   ]
  },
  {
   "cell_type": "code",
   "execution_count": 37,
   "id": "8048329d",
   "metadata": {},
   "outputs": [
    {
     "name": "stdout",
     "output_type": "stream",
     "text": [
      "6\n"
     ]
    }
   ],
   "source": [
    "# 3-D\n",
    "arr3 = np.array([[[1,2,3],[4,5,6]],[[7,8,9],[9,2,3]]])\n",
    "print(arr3[0,1,2])"
   ]
  },
  {
   "cell_type": "code",
   "execution_count": 39,
   "id": "281af2a5",
   "metadata": {},
   "outputs": [
    {
     "name": "stdout",
     "output_type": "stream",
     "text": [
      "2\n",
      "[0.70276779 0.4498056  0.41511711 0.97301143]\n"
     ]
    }
   ],
   "source": [
    "from numpy import random\n",
    "print(random.randint(4))\n",
    "print(random.rand(4))"
   ]
  },
  {
   "cell_type": "code",
   "execution_count": 42,
   "id": "171d2203",
   "metadata": {},
   "outputs": [
    {
     "name": "stdout",
     "output_type": "stream",
     "text": [
      "[77 61 80]\n",
      "[[66 55 40 52]\n",
      " [61 18 14 26]]\n",
      "[[[85 21]\n",
      "  [17 16]\n",
      "  [73 45]\n",
      "  [46  8]]\n",
      "\n",
      " [[13  9]\n",
      "  [12 14]\n",
      "  [31 35]\n",
      "  [24 71]]\n",
      "\n",
      " [[35 21]\n",
      "  [50 42]\n",
      "  [31 73]\n",
      "  [28  6]]]\n"
     ]
    }
   ],
   "source": [
    "# Create N-dimensional array with random integer values\n",
    "print(random.randint(100, size = 3))\n",
    "print(random.randint(100, size = (2,4)))\n",
    "print(random.randint(100, size = (3,4,2)))\n"
   ]
  },
  {
   "cell_type": "code",
   "execution_count": 43,
   "id": "301bf5c4",
   "metadata": {},
   "outputs": [
    {
     "name": "stdout",
     "output_type": "stream",
     "text": [
      "[0.20774193 0.52306851]\n",
      "[[0.75574682 0.79021075 0.2976275  0.84543472]\n",
      " [0.96305966 0.83112619 0.82983533 0.44538948]]\n",
      "[[[0.47947934 0.39844547 0.86500247 0.42768221]\n",
      "  [0.25538272 0.58615197 0.81814044 0.16556985]\n",
      "  [0.10647744 0.48306207 0.91170513 0.60989346]\n",
      "  [0.98719158 0.73161573 0.21521836 0.76049473]]\n",
      "\n",
      " [[0.47537662 0.44432382 0.42317216 0.22617607]\n",
      "  [0.021346   0.44144411 0.74452312 0.67833815]\n",
      "  [0.22722778 0.98330382 0.89061052 0.3113622 ]\n",
      "  [0.75559559 0.39020662 0.71641553 0.8441549 ]]\n",
      "\n",
      " [[0.21491882 0.91529332 0.86609674 0.22823813]\n",
      "  [0.61710197 0.36293617 0.46603434 0.98805062]\n",
      "  [0.53382366 0.14537294 0.79991633 0.89638278]\n",
      "  [0.84306593 0.4950929  0.45175872 0.05043126]]]\n"
     ]
    }
   ],
   "source": [
    "# Create N-dimensional array with random decimal values\n",
    "print(random.rand(2))\n",
    "print(random.rand(2,4))\n",
    "print(random.rand(3,4,4))"
   ]
  },
  {
   "cell_type": "markdown",
   "id": "e78a9e77",
   "metadata": {},
   "source": [
    "# Pandas Module:\n",
    "- used to work with datasets"
   ]
  },
  {
   "cell_type": "code",
   "execution_count": 46,
   "id": "59bd7310",
   "metadata": {},
   "outputs": [
    {
     "name": "stdout",
     "output_type": "stream",
     "text": [
      "  First Second\n",
      "a     1      4\n",
      "b     2      5\n",
      "c     3      6\n"
     ]
    }
   ],
   "source": [
    "import pandas as pd\n",
    "d1 ={\"a\":\"1\",\"b\":\"2\",\"c\":\"3\"}\n",
    "d2 ={\"a\":\"4\",\"b\":\"5\",\"c\":\"6\"}\n",
    "data = {\"First\":d1,\"Second\":d2}\n",
    "df = pd.DataFrame(data)\n",
    "print(df)"
   ]
  },
  {
   "cell_type": "code",
   "execution_count": 47,
   "id": "f014d161",
   "metadata": {},
   "outputs": [
    {
     "name": "stdout",
     "output_type": "stream",
     "text": [
      "       Name Address\n",
      "0     Kiran   akplm\n",
      "1     Vamsi      pm\n",
      "2    Ramsai      pm\n",
      "3  Poornima   ganty\n"
     ]
    }
   ],
   "source": [
    "d = {\"Name\":[\"Kiran\",\"Vamsi\",\"Ramsai\",\"Poornima\"],\"Address\":[\"akplm\",\"pm\",\"pm\",\"ganty\"]}\n",
    "df = pd.DataFrame(d)\n",
    "print(df)"
   ]
  },
  {
   "cell_type": "code",
   "execution_count": 48,
   "id": "7032b9d4",
   "metadata": {},
   "outputs": [
    {
     "name": "stdout",
     "output_type": "stream",
     "text": [
      "  Column1  Column2  Column3\n",
      "0       a        1      1.1\n",
      "1       b        2      1.2\n",
      "2       c        3      1.3\n",
      "3       d        4      1.4\n",
      "4       e        5      1.5\n"
     ]
    }
   ],
   "source": [
    "# Series\n",
    "s1 = pd.Series([1,2,3,4,5])\n",
    "s2 = pd.Series([1.1,1.2,1.3,1.4,1.5])\n",
    "s3 = pd.Series([\"a\",\"b\",\"c\",\"d\",\"e\"])\n",
    "data = {\"Column1\":s3,\"Column2\":s1,\"Column3\":s2}\n",
    "df = pd.DataFrame(data)\n",
    "print(df)"
   ]
  },
  {
   "cell_type": "markdown",
   "id": "9d237d28",
   "metadata": {},
   "source": [
    "# Select Data from Dataframes"
   ]
  },
  {
   "cell_type": "code",
   "execution_count": 50,
   "id": "85ee3732",
   "metadata": {},
   "outputs": [
    {
     "data": {
      "text/plain": [
       "0    a\n",
       "1    b\n",
       "2    c\n",
       "3    d\n",
       "4    e\n",
       "Name: Column1, dtype: object"
      ]
     },
     "execution_count": 50,
     "metadata": {},
     "output_type": "execute_result"
    }
   ],
   "source": [
    "df[\"Column1\"]"
   ]
  },
  {
   "cell_type": "code",
   "execution_count": 51,
   "id": "da17a100",
   "metadata": {},
   "outputs": [
    {
     "data": {
      "text/plain": [
       "0    1.1\n",
       "1    1.2\n",
       "2    1.3\n",
       "3    1.4\n",
       "4    1.5\n",
       "Name: Column3, dtype: float64"
      ]
     },
     "execution_count": 51,
     "metadata": {},
     "output_type": "execute_result"
    }
   ],
   "source": [
    "df[\"Column3\"]"
   ]
  },
  {
   "cell_type": "code",
   "execution_count": 52,
   "id": "020cd136",
   "metadata": {},
   "outputs": [
    {
     "data": {
      "text/plain": [
       "'e'"
      ]
     },
     "execution_count": 52,
     "metadata": {},
     "output_type": "execute_result"
    }
   ],
   "source": [
    "df.loc[4,\"Column1\"]"
   ]
  },
  {
   "cell_type": "code",
   "execution_count": 53,
   "id": "8d1cf539",
   "metadata": {},
   "outputs": [
    {
     "data": {
      "text/plain": [
       "3"
      ]
     },
     "execution_count": 53,
     "metadata": {},
     "output_type": "execute_result"
    }
   ],
   "source": [
    "df.loc[2,\"Column2\"]"
   ]
  },
  {
   "cell_type": "code",
   "execution_count": 54,
   "id": "33ab5139",
   "metadata": {},
   "outputs": [
    {
     "data": {
      "text/plain": [
       "Column1      b\n",
       "Column2      2\n",
       "Column3    1.2\n",
       "Name: 1, dtype: object"
      ]
     },
     "execution_count": 54,
     "metadata": {},
     "output_type": "execute_result"
    }
   ],
   "source": [
    "df.iloc[1]"
   ]
  },
  {
   "cell_type": "code",
   "execution_count": 55,
   "id": "328b170a",
   "metadata": {},
   "outputs": [
    {
     "data": {
      "text/plain": [
       "Column1      d\n",
       "Column2      4\n",
       "Column3    1.4\n",
       "Name: 3, dtype: object"
      ]
     },
     "execution_count": 55,
     "metadata": {},
     "output_type": "execute_result"
    }
   ],
   "source": [
    "df.iloc[3]"
   ]
  },
  {
   "cell_type": "code",
   "execution_count": 57,
   "id": "341279da",
   "metadata": {},
   "outputs": [
    {
     "data": {
      "text/html": [
       "<div>\n",
       "<style scoped>\n",
       "    .dataframe tbody tr th:only-of-type {\n",
       "        vertical-align: middle;\n",
       "    }\n",
       "\n",
       "    .dataframe tbody tr th {\n",
       "        vertical-align: top;\n",
       "    }\n",
       "\n",
       "    .dataframe thead th {\n",
       "        text-align: right;\n",
       "    }\n",
       "</style>\n",
       "<table border=\"1\" class=\"dataframe\">\n",
       "  <thead>\n",
       "    <tr style=\"text-align: right;\">\n",
       "      <th></th>\n",
       "      <th>Column1</th>\n",
       "      <th>Column2</th>\n",
       "      <th>Column3</th>\n",
       "    </tr>\n",
       "  </thead>\n",
       "  <tbody>\n",
       "    <tr>\n",
       "      <th>0</th>\n",
       "      <td>a</td>\n",
       "      <td>1</td>\n",
       "      <td>1.1</td>\n",
       "    </tr>\n",
       "    <tr>\n",
       "      <th>1</th>\n",
       "      <td>b</td>\n",
       "      <td>2</td>\n",
       "      <td>1.2</td>\n",
       "    </tr>\n",
       "  </tbody>\n",
       "</table>\n",
       "</div>"
      ],
      "text/plain": [
       "  Column1  Column2  Column3\n",
       "0       a        1      1.1\n",
       "1       b        2      1.2"
      ]
     },
     "execution_count": 57,
     "metadata": {},
     "output_type": "execute_result"
    }
   ],
   "source": [
    "df.head(2)"
   ]
  },
  {
   "cell_type": "code",
   "execution_count": 58,
   "id": "391399e1",
   "metadata": {},
   "outputs": [
    {
     "data": {
      "text/html": [
       "<div>\n",
       "<style scoped>\n",
       "    .dataframe tbody tr th:only-of-type {\n",
       "        vertical-align: middle;\n",
       "    }\n",
       "\n",
       "    .dataframe tbody tr th {\n",
       "        vertical-align: top;\n",
       "    }\n",
       "\n",
       "    .dataframe thead th {\n",
       "        text-align: right;\n",
       "    }\n",
       "</style>\n",
       "<table border=\"1\" class=\"dataframe\">\n",
       "  <thead>\n",
       "    <tr style=\"text-align: right;\">\n",
       "      <th></th>\n",
       "      <th>Column1</th>\n",
       "      <th>Column2</th>\n",
       "      <th>Column3</th>\n",
       "    </tr>\n",
       "  </thead>\n",
       "  <tbody>\n",
       "    <tr>\n",
       "      <th>3</th>\n",
       "      <td>d</td>\n",
       "      <td>4</td>\n",
       "      <td>1.4</td>\n",
       "    </tr>\n",
       "    <tr>\n",
       "      <th>4</th>\n",
       "      <td>e</td>\n",
       "      <td>5</td>\n",
       "      <td>1.5</td>\n",
       "    </tr>\n",
       "  </tbody>\n",
       "</table>\n",
       "</div>"
      ],
      "text/plain": [
       "  Column1  Column2  Column3\n",
       "3       d        4      1.4\n",
       "4       e        5      1.5"
      ]
     },
     "execution_count": 58,
     "metadata": {},
     "output_type": "execute_result"
    }
   ],
   "source": [
    "df.tail(2)"
   ]
  },
  {
   "cell_type": "code",
   "execution_count": 59,
   "id": "c65832a4",
   "metadata": {},
   "outputs": [
    {
     "data": {
      "text/html": [
       "<div>\n",
       "<style scoped>\n",
       "    .dataframe tbody tr th:only-of-type {\n",
       "        vertical-align: middle;\n",
       "    }\n",
       "\n",
       "    .dataframe tbody tr th {\n",
       "        vertical-align: top;\n",
       "    }\n",
       "\n",
       "    .dataframe thead th {\n",
       "        text-align: right;\n",
       "    }\n",
       "</style>\n",
       "<table border=\"1\" class=\"dataframe\">\n",
       "  <thead>\n",
       "    <tr style=\"text-align: right;\">\n",
       "      <th></th>\n",
       "      <th>Column1</th>\n",
       "      <th>Column2</th>\n",
       "      <th>Column3</th>\n",
       "    </tr>\n",
       "  </thead>\n",
       "  <tbody>\n",
       "    <tr>\n",
       "      <th>2</th>\n",
       "      <td>c</td>\n",
       "      <td>3</td>\n",
       "      <td>1.3</td>\n",
       "    </tr>\n",
       "    <tr>\n",
       "      <th>3</th>\n",
       "      <td>d</td>\n",
       "      <td>4</td>\n",
       "      <td>1.4</td>\n",
       "    </tr>\n",
       "  </tbody>\n",
       "</table>\n",
       "</div>"
      ],
      "text/plain": [
       "  Column1  Column2  Column3\n",
       "2       c        3      1.3\n",
       "3       d        4      1.4"
      ]
     },
     "execution_count": 59,
     "metadata": {},
     "output_type": "execute_result"
    }
   ],
   "source": [
    "df.sample(2)\n"
   ]
  },
  {
   "cell_type": "code",
   "execution_count": 60,
   "id": "cca36754",
   "metadata": {},
   "outputs": [
    {
     "data": {
      "text/plain": [
       "Column1      d\n",
       "Column2      4\n",
       "Column3    1.4\n",
       "Name: 3, dtype: object"
      ]
     },
     "execution_count": 60,
     "metadata": {},
     "output_type": "execute_result"
    }
   ],
   "source": [
    "df.iloc[3]"
   ]
  },
  {
   "cell_type": "markdown",
   "id": "3255b371",
   "metadata": {},
   "source": [
    "# Matplotlib\n",
    "- used to draw graphs"
   ]
  },
  {
   "cell_type": "code",
   "execution_count": 61,
   "id": "ee9d5cbd",
   "metadata": {},
   "outputs": [
    {
     "data": {
      "image/png": "[encoded data removed]",
      "text/plain": [
       "<Figure size 432x288 with 1 Axes>"
      ]
     },
     "metadata": {
      "needs_background": "light"
     },
     "output_type": "display_data"
    }
   ],
   "source": [
    "import matplotlib.pyplot as plt\n",
    "import numpy as np\n",
    "x = np.array([1,3,5,7,9])\n",
    "y = np.array([4,6,8,2,5])\n",
    "plt.title(\"Graph\")\n",
    "plt.xlabel(\"X-Axis\")\n",
    "plt.ylabel(\"Y-Axis\")\n",
    "plt.plot(x,y)\n",
    "plt.show()"
   ]
  },
  {
   "cell_type": "code",
   "execution_count": 62,
   "id": "7b3c51ed",
   "metadata": {},
   "outputs": [
    {
     "data": {
      "image/png": "[encoded data removed]",
      "text/plain": [
       "<Figure size 432x288 with 1 Axes>"
      ]
     },
     "metadata": {
      "needs_background": "light"
     },
     "output_type": "display_data"
    }
   ],
   "source": [
    "y = np.array([4,6,8,2,5])\n",
    "plt.title(\"Graph\")\n",
    "plt.xlabel(\"X-Axis\")\n",
    "plt.ylabel(\"Y-Axis\")\n",
    "plt.plot(x,y)\n",
    "plt.show()"
   ]
  },
  {
   "cell_type": "code",
   "execution_count": 63,
   "id": "c46a73c6",
   "metadata": {},
   "outputs": [
    {
     "data": {
      "text/plain": [
       "[<matplotlib.lines.Line2D at 0x1c2b5048fa0>]"
      ]
     },
     "execution_count": 63,
     "metadata": {},
     "output_type": "execute_result"
    },
    {
     "data": {
      "image/png": "[encoded data removed]",
      "text/plain": [
       "<Figure size 432x288 with 6 Axes>"
      ]
     },
     "metadata": {
      "needs_background": "light"
     },
     "output_type": "display_data"
    }
   ],
   "source": [
    "x = np.array([1,3,5,7,9])\n",
    "y = np.array([4,6,8,2,5])\n",
    "plt.subplot(2,3,1)\n",
    "plt.plot(x,y)\n",
    "# Plot 2\n",
    "x = np.array([1,3,5,7,9])\n",
    "y = np.array([4,6,8,2,5])\n",
    "plt.subplot(2,3,2)\n",
    "plt.plot(x,y)\n",
    "# Plot 3\n",
    "x = np.array([1,3,5,7,9])\n",
    "y = np.array([4,6,8,2,5])\n",
    "plt.subplot(2,3,3)\n",
    "plt.plot(x,y)\n",
    "# Plot 4\n",
    "x = np.array([1,3,5,7,9])\n",
    "y = np.array([4,6,8,2,5])\n",
    "plt.subplot(2,3,4)\n",
    "plt.plot(x,y)\n",
    "# Plot 5\n",
    "x = np.array([1,3,5,7,9])\n",
    "y = np.array([4,6,8,2,5])\n",
    "plt.subplot(2,3,5)\n",
    "plt.plot(x,y)\n",
    "# Plot 6\n",
    "x = np.array([1,3,5,7,9])\n",
    "y = np.array([4,6,8,2,5])\n",
    "plt.subplot(2,3,6)\n",
    "plt.plot(x,y)"
   ]
  },
  {
   "cell_type": "code",
   "execution_count": null,
   "id": "a877dc21",
   "metadata": {},
   "outputs": [],
   "source": []
  }
 ],
 "metadata": {
  "kernelspec": {
   "display_name": "Python 3 (ipykernel)",
   "language": "python",
   "name": "python3"
  },
  "language_info": {
   "codemirror_mode": {
    "name": "ipython",
    "version": 3
   },
   "file_extension": ".py",
   "mimetype": "text/x-python",
   "name": "python",
   "nbconvert_exporter": "python",
   "pygments_lexer": "ipython3",
   "version": "3.9.7"
  }
 },
 "nbformat": 4,
 "nbformat_minor": 5
}
