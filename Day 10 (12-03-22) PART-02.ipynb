{
 "cells": [
  {
   "cell_type": "code",
   "execution_count": 1,
   "id": "be732976",
   "metadata": {},
   "outputs": [
    {
     "name": "stdout",
     "output_type": "stream",
     "text": [
      "hasdcl\n"
     ]
    }
   ],
   "source": [
    "f = open(\"Kiran.txt\",\"r\")\n",
    "print(f.read())"
   ]
  },
  {
   "cell_type": "code",
   "execution_count": 3,
   "id": "3c638597",
   "metadata": {},
   "outputs": [
    {
     "name": "stdout",
     "output_type": "stream",
     "text": [
      "hasdcl\n"
     ]
    }
   ],
   "source": [
    "f = open(\"Kiran.txt\",\"r\")\n",
    "print(f.read(6))"
   ]
  },
  {
   "cell_type": "code",
   "execution_count": 5,
   "id": "66321835",
   "metadata": {},
   "outputs": [
    {
     "name": "stdout",
     "output_type": "stream",
     "text": [
      "hasdcl\n",
      "\n",
      "i am andagadu\n"
     ]
    }
   ],
   "source": [
    "f = open(\"Kiran.txt\",\"r\")\n",
    "print(f.readline())\n",
    "print(f.readline())"
   ]
  },
  {
   "cell_type": "code",
   "execution_count": 7,
   "id": "01a2a6b3",
   "metadata": {},
   "outputs": [
    {
     "name": "stdout",
     "output_type": "stream",
     "text": [
      "file is created\n"
     ]
    }
   ],
   "source": [
    "# Create a file\n",
    "def createfile(filename):\n",
    "    f = open(filename,\"w\")\n",
    "    for i in range(10):\n",
    "        f.write(\"Hello World \\n\")\n",
    "    print(\"file is created\")\n",
    "createfile(\"King.txt\")    \n",
    "        "
   ]
  },
  {
   "cell_type": "code",
   "execution_count": 8,
   "id": "d2137cbb",
   "metadata": {},
   "outputs": [
    {
     "name": "stdout",
     "output_type": "stream",
     "text": [
      "file is created\n"
     ]
    }
   ],
   "source": [
    "# Append a file\n",
    "def createfile(filename):\n",
    "    f = open(filename,\"a\")\n",
    "    for i in range(10):\n",
    "        f.write(\"This is me \\n\")\n",
    "    print(\"file is created\")\n",
    "createfile(\"King.txt\")    \n",
    "        "
   ]
  },
  {
   "cell_type": "code",
   "execution_count": null,
   "id": "a51f7601",
   "metadata": {},
   "outputs": [],
   "source": []
  }
 ],
 "metadata": {
  "kernelspec": {
   "display_name": "Python 3 (ipykernel)",
   "language": "python",
   "name": "python3"
  },
  "language_info": {
   "codemirror_mode": {
    "name": "ipython",
    "version": 3
   },
   "file_extension": ".py",
   "mimetype": "text/x-python",
   "name": "python",
   "nbconvert_exporter": "python",
   "pygments_lexer": "ipython3",
   "version": "3.9.7"
  }
 },
 "nbformat": 4,
 "nbformat_minor": 5
}
