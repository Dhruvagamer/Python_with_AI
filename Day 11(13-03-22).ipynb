{
 "cells": [
  {
   "cell_type": "code",
   "execution_count": 1,
   "id": "fe0324d0",
   "metadata": {},
   "outputs": [
    {
     "name": "stdout",
     "output_type": "stream",
     "text": [
      "Welcome to fila handling\n",
      "hw are you\n",
      "hw are you\n",
      "hw are youhw are you\n",
      "hw are you\n",
      "hw are you\n",
      "hw are you\n"
     ]
    }
   ],
   "source": [
    "# Read a file\n",
    "def readfile(filename):\n",
    "    with open(filename,\"r\") as f:\n",
    "        if f.mode == \"r\":\n",
    "            x = f.read()\n",
    "            print(x)\n",
    "readfile(\"text.txt\")            \n",
    "            "
   ]
  },
  {
   "cell_type": "code",
   "execution_count": 2,
   "id": "b41d4371",
   "metadata": {},
   "outputs": [
    {
     "data": {
      "text/plain": [
       "24"
      ]
     },
     "execution_count": 2,
     "metadata": {},
     "output_type": "execute_result"
    }
   ],
   "source": [
    "# Word count\n",
    "def wordcount(filename):\n",
    "     with open(filename,\"r\") as f:\n",
    "        if f.mode == \"r\":\n",
    "            x = f.read()\n",
    "            l = x.split()\n",
    "        return len(l)\n",
    "wordcount(\"text.txt\")    \n",
    "    "
   ]
  },
  {
   "cell_type": "code",
   "execution_count": 5,
   "id": "256d2ce6",
   "metadata": {},
   "outputs": [
    {
     "data": {
      "text/plain": [
       "6"
      ]
     },
     "execution_count": 5,
     "metadata": {},
     "output_type": "execute_result"
    }
   ],
   "source": [
    "# Specific word count\n",
    "def specific(filename,word):\n",
    "       with open(filename,\"r\") as f:\n",
    "            if f.mode == \"r\":\n",
    "                x = f.read()\n",
    "                l = x.split()\n",
    "            return l.count(word)\n",
    "specific(\"text.txt\",\"hw\")        \n",
    "        \n",
    "                    \n",
    "                \n",
    "                \n",
    "            \n",
    "                    \n",
    "            \n",
    "    "
   ]
  },
  {
   "cell_type": "code",
   "execution_count": 6,
   "id": "a8f74b2e",
   "metadata": {},
   "outputs": [
    {
     "data": {
      "text/plain": [
       "100"
      ]
     },
     "execution_count": 6,
     "metadata": {},
     "output_type": "execute_result"
    }
   ],
   "source": [
    "# Count characters\n",
    "def char(filename):\n",
    "    with open(filename,\"r\") as f:\n",
    "        if f.mode == \"r\":\n",
    "            x = f.read()\n",
    "            l = list(x)\n",
    "        return len(l)\n",
    "char(\"text.txt\")    \n",
    "        "
   ]
  },
  {
   "cell_type": "code",
   "execution_count": 8,
   "id": "41ce4f0c",
   "metadata": {},
   "outputs": [
    {
     "data": {
      "text/plain": [
       "7"
      ]
     },
     "execution_count": 8,
     "metadata": {},
     "output_type": "execute_result"
    }
   ],
   "source": [
    "# Count lines\n",
    "def countlines(filename):\n",
    "    with open(filename,\"r\") as f:\n",
    "        if f.mode == \"r\":\n",
    "            x = f.read()\n",
    "            l = x.split(\"\\n\")\n",
    "        return len(l)\n",
    "countlines(\"text.txt\")    \n",
    "    "
   ]
  },
  {
   "cell_type": "markdown",
   "id": "7e22c6c7",
   "metadata": {},
   "source": [
    "# String Slicing"
   ]
  },
  {
   "cell_type": "code",
   "execution_count": 9,
   "id": "1b0585c6",
   "metadata": {},
   "outputs": [
    {
     "name": "stdout",
     "output_type": "stream",
     "text": [
      "Python Programming <class 'str'>\n"
     ]
    }
   ],
   "source": [
    "s = \"Python Programming\"\n",
    "print(s,type(s))"
   ]
  },
  {
   "cell_type": "code",
   "execution_count": 12,
   "id": "e40c28ad",
   "metadata": {},
   "outputs": [
    {
     "name": "stdout",
     "output_type": "stream",
     "text": [
      "P\n",
      "g\n",
      "Python \n",
      "ython Pr\n"
     ]
    }
   ],
   "source": [
    "# Access\n",
    "print(s[0])\n",
    "print(s[-1])\n",
    "print(s[0:7])\n",
    "print(s[1:9])"
   ]
  },
  {
   "cell_type": "code",
   "execution_count": 13,
   "id": "ef2bcb75",
   "metadata": {},
   "outputs": [
    {
     "name": "stdout",
     "output_type": "stream",
     "text": [
      "ython Programmin\n",
      "thon Programmi\n"
     ]
    }
   ],
   "source": [
    "# Want to print string\n",
    "print(s[1:-1])\n",
    "print(s[2:-2])"
   ]
  },
  {
   "cell_type": "code",
   "execution_count": 14,
   "id": "6d6f8dac",
   "metadata": {},
   "outputs": [
    {
     "name": "stdout",
     "output_type": "stream",
     "text": [
      "gnimmargorP nohtyP\n",
      "gnimmargorP nohtyP\n"
     ]
    }
   ],
   "source": [
    "# Reverse\n",
    "s = \"Python Programming\"\n",
    "print(s[::-1])\n",
    "print(s[-1::-1])"
   ]
  },
  {
   "cell_type": "code",
   "execution_count": 15,
   "id": "555629b2",
   "metadata": {},
   "outputs": [
    {
     "data": {
      "text/plain": [
       "'gnimmargorP nohtyP'"
      ]
     },
     "execution_count": 15,
     "metadata": {},
     "output_type": "execute_result"
    }
   ],
   "source": [
    "def reverse(n):\n",
    "    return n[::-1]\n",
    "reverse(\"Python Programming\")"
   ]
  },
  {
   "cell_type": "markdown",
   "id": "a2f2b598",
   "metadata": {},
   "source": [
    "# Ascii system\n",
    "- A-Z--> 65-90\n",
    "- a-z -->97-122\n",
    "- 0-9 -->48-57\n",
    "- space-->32"
   ]
  },
  {
   "cell_type": "code",
   "execution_count": 16,
   "id": "d3410ce0",
   "metadata": {},
   "outputs": [
    {
     "name": "stdout",
     "output_type": "stream",
     "text": [
      "y 121 R 82\n"
     ]
    }
   ],
   "source": [
    "s = \"y\"\n",
    "s1 = \"R\"\n",
    "print(s,ord(s),s1,ord(s1))"
   ]
  },
  {
   "cell_type": "code",
   "execution_count": 17,
   "id": "0769936c",
   "metadata": {},
   "outputs": [
    {
     "name": "stdout",
     "output_type": "stream",
     "text": [
      "A B C D E F G H I J K L M N O P Q R S T U V W X Y Z "
     ]
    }
   ],
   "source": [
    "# A-Z\n",
    "for i in range(65,91):\n",
    "    print(chr(i),end = \" \")"
   ]
  },
  {
   "cell_type": "code",
   "execution_count": 24,
   "id": "407642cf",
   "metadata": {},
   "outputs": [
    {
     "name": "stdout",
     "output_type": "stream",
     "text": [
      "a b c d e f g h i j k l m n o p q r s t u v w x y z "
     ]
    }
   ],
   "source": [
    "# a-z\n",
    "for i in range(97,123):\n",
    "    print(chr(i),end = \" \")\n"
   ]
  },
  {
   "cell_type": "code",
   "execution_count": 23,
   "id": "0e1de430",
   "metadata": {},
   "outputs": [
    {
     "name": "stdout",
     "output_type": "stream",
     "text": [
      "0 1 2 3 4 5 6 7 8 9 "
     ]
    }
   ],
   "source": [
    "# 0-9\n",
    "for i in range(48,58):\n",
    "    print(chr(i),end = \" \")"
   ]
  },
  {
   "cell_type": "code",
   "execution_count": 27,
   "id": "6ecb96e7",
   "metadata": {},
   "outputs": [
    {
     "data": {
      "text/plain": [
       "True"
      ]
     },
     "execution_count": 27,
     "metadata": {},
     "output_type": "execute_result"
    }
   ],
   "source": [
    "# Check given string is palindrome or not\n",
    "def palindrome(s):\n",
    "    if s == s[::-1]:\n",
    "        return False\n",
    "    return True\n",
    "palindrome(\"Python\")    \n",
    "    "
   ]
  },
  {
   "cell_type": "code",
   "execution_count": 28,
   "id": "7b7c2448",
   "metadata": {},
   "outputs": [
    {
     "data": {
      "text/plain": [
       "False"
      ]
     },
     "execution_count": 28,
     "metadata": {},
     "output_type": "execute_result"
    }
   ],
   "source": [
    "palindrome(\"aha\")"
   ]
  },
  {
   "cell_type": "code",
   "execution_count": 32,
   "id": "b0d2a24e",
   "metadata": {},
   "outputs": [
    {
     "name": "stdout",
     "output_type": "stream",
     "text": [
      "P P "
     ]
    }
   ],
   "source": [
    "# Print upper case characters from given string\n",
    "def upper(x):\n",
    "    for i in range(len(x)):\n",
    "        if ord(x[i])>65 and ord(x[i])<91:\n",
    "            print(x[i],end = \" \")\n",
    "upper(\"Python Programming\")            "
   ]
  },
  {
   "cell_type": "code",
   "execution_count": 33,
   "id": "6ce9120f",
   "metadata": {},
   "outputs": [
    {
     "name": "stdout",
     "output_type": "stream",
     "text": [
      "y t h o n r o g r m m i n g "
     ]
    }
   ],
   "source": [
    "# Print lower case characters from given string\n",
    "def lower(x):\n",
    "    for i in range(len(x)):\n",
    "        if ord(x[i])>97 and ord(x[i])<123:\n",
    "            print(x[i],end = \" \")\n",
    "lower(\"Python Programming\")            "
   ]
  },
  {
   "cell_type": "code",
   "execution_count": 35,
   "id": "4d012a91",
   "metadata": {},
   "outputs": [
    {
     "name": "stdout",
     "output_type": "stream",
     "text": [
      "2 1 "
     ]
    }
   ],
   "source": [
    "# Print digits from given string\n",
    "def digits(x):\n",
    "    for i in range(len(x)):\n",
    "        if ord(x[i])>48 and ord(x[i])<58:\n",
    "            print(x[i],end = \" \")\n",
    "digits(\"python 21\")            "
   ]
  },
  {
   "cell_type": "code",
   "execution_count": 50,
   "id": "e51b5e1d",
   "metadata": {},
   "outputs": [
    {
     "data": {
      "text/plain": [
       "' pYTHON'"
      ]
     },
     "execution_count": 50,
     "metadata": {},
     "output_type": "execute_result"
    }
   ],
   "source": [
    "# Input : Python\n",
    "# Output : pYThon\n",
    "def upperlower(x):\n",
    "    s1 = \" \"\n",
    "    for i in range(len(x)):\n",
    "        if ord(x[i])>97 and ord(x[i])<123:\n",
    "            s1 += chr(ord(x[i])-32)\n",
    "        elif ord(x[i])>65 and ord(x[i])<95:\n",
    "            s1 += chr(ord(x[i])+32)\n",
    "    return s1       \n",
    "upperlower(\"Python\")                    \n",
    "                    \n",
    "            \n",
    "            \n",
    "            "
   ]
  },
  {
   "cell_type": "code",
   "execution_count": 56,
   "id": "4f92f907",
   "metadata": {},
   "outputs": [
    {
     "data": {
      "text/plain": [
       "10"
      ]
     },
     "execution_count": 56,
     "metadata": {},
     "output_type": "execute_result"
    }
   ],
   "source": [
    "# Input : \"P1y2y3o4\"\n",
    "# Output : 10(1+2+3+4)\n",
    "def sum(x):\n",
    "    sum = 0\n",
    "    for i in range(len(x)):\n",
    "        if ord(x[i])>=48 and ord(x[i])<=57:\n",
    "            sum += ord(x[i])-48\n",
    "    return sum       \n",
    "sum(\"P1y2y3o4\")     "
   ]
  },
  {
   "cell_type": "code",
   "execution_count": null,
   "id": "16f46d4e",
   "metadata": {},
   "outputs": [],
   "source": []
  }
 ],
 "metadata": {
  "kernelspec": {
   "display_name": "Python 3",
   "language": "python",
   "name": "python3"
  },
  "language_info": {
   "codemirror_mode": {
    "name": "ipython",
    "version": 3
   },
   "file_extension": ".py",
   "mimetype": "text/x-python",
   "name": "python",
   "nbconvert_exporter": "python",
   "pygments_lexer": "ipython3",
   "version": "3.8.8"
  }
 },
 "nbformat": 4,
 "nbformat_minor": 5
}
