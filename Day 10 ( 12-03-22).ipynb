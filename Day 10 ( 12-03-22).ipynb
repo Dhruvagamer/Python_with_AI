{
 "cells": [
  {
   "cell_type": "code",
   "execution_count": 5,
   "id": "c21a66d6",
   "metadata": {},
   "outputs": [
    {
     "name": "stdout",
     "output_type": "stream",
     "text": [
      "contact is added\n"
     ]
    }
   ],
   "source": [
    "# Add contacts\n",
    "contacts = { }\n",
    "def addcontacts(name,number):\n",
    "    if name not in contacts:\n",
    "        contacts[name]= number\n",
    "        print(\"contact is added\")\n",
    "    else:\n",
    "            print(\"contact already exits\")\n",
    "addcontacts(\"Kiran\",\"6304401924\")            "
   ]
  },
  {
   "cell_type": "code",
   "execution_count": 7,
   "id": "7b04fc51",
   "metadata": {},
   "outputs": [
    {
     "name": "stdout",
     "output_type": "stream",
     "text": [
      "contact is added\n"
     ]
    }
   ],
   "source": [
    "addcontacts(\"Ravi\",\"6304401924\") "
   ]
  },
  {
   "cell_type": "code",
   "execution_count": 8,
   "id": "59bcc0d7",
   "metadata": {},
   "outputs": [
    {
     "data": {
      "text/plain": [
       "{'Kiran': '6304401924', 'Ravi': '6304401924'}"
      ]
     },
     "execution_count": 8,
     "metadata": {},
     "output_type": "execute_result"
    }
   ],
   "source": [
    "contacts\n"
   ]
  },
  {
   "cell_type": "code",
   "execution_count": 11,
   "id": "d5612089",
   "metadata": {},
   "outputs": [
    {
     "name": "stdout",
     "output_type": "stream",
     "text": [
      "Contact not exist\n",
      "Kiran : 6304401924\n"
     ]
    }
   ],
   "source": [
    "# Search contacts\n",
    "def searchcontact(name):\n",
    "    if name in contacts:\n",
    "        print(name,\":\",contacts[name])\n",
    "    else:\n",
    "        print(\"Contact not exist\")\n",
    "searchcontact(\"kiran\")        \n",
    "searchcontact(\"Kiran\")              \n",
    "        "
   ]
  },
  {
   "cell_type": "code",
   "execution_count": 13,
   "id": "21c15f2c",
   "metadata": {},
   "outputs": [
    {
     "name": "stdout",
     "output_type": "stream",
     "text": [
      "contact not exist\n"
     ]
    }
   ],
   "source": [
    "# Delete contact\n",
    "def delcontact(name):\n",
    "    if name in contacts:\n",
    "        del contacts[name]\n",
    "    else:\n",
    "        print(\"contact not exist\")\n",
    "delcontact(\"Ravi\")        "
   ]
  },
  {
   "cell_type": "code",
   "execution_count": 14,
   "id": "e28c1148",
   "metadata": {},
   "outputs": [
    {
     "data": {
      "text/plain": [
       "{'Kiran': '6304401924'}"
      ]
     },
     "execution_count": 14,
     "metadata": {},
     "output_type": "execute_result"
    }
   ],
   "source": [
    "contacts"
   ]
  },
  {
   "cell_type": "code",
   "execution_count": 15,
   "id": "7632e82d",
   "metadata": {},
   "outputs": [
    {
     "name": "stdout",
     "output_type": "stream",
     "text": [
      "contact not exist\n"
     ]
    }
   ],
   "source": [
    "delcontact(\"Ravi\")"
   ]
  },
  {
   "cell_type": "code",
   "execution_count": 23,
   "id": "5480a23d",
   "metadata": {},
   "outputs": [
    {
     "name": "stdout",
     "output_type": "stream",
     "text": [
      "3\n"
     ]
    }
   ],
   "source": [
    "# Merge contacts\n",
    "def mergecontact(newcontacts):\n",
    "    contacts.update(newcontacts)\n",
    "    print(len(newcontacts.keys())),\"contacts are added\"\n",
    "newcontacts ={\"Chinnu\":\"8341076689\",\"ramsai\":\"9849940131\",\"lavanya\":\"6309071087\"}\n",
    "mergecontact(newcontacts)"
   ]
  },
  {
   "cell_type": "code",
   "execution_count": 18,
   "id": "c2808346",
   "metadata": {},
   "outputs": [
    {
     "data": {
      "text/plain": [
       "{'Kiran': '6304401924',\n",
       " 'Chinnu': '8341076689',\n",
       " 'ramsai': '9849940131',\n",
       " 'lavanya': '6309071087'}"
      ]
     },
     "execution_count": 18,
     "metadata": {},
     "output_type": "execute_result"
    }
   ],
   "source": [
    "contacts\n"
   ]
  },
  {
   "cell_type": "code",
   "execution_count": 19,
   "id": "b9b40bf7",
   "metadata": {},
   "outputs": [
    {
     "name": "stdout",
     "output_type": "stream",
     "text": [
      "python\n",
      "PYTHON\n",
      "P y t h o n\n",
      "P,y,t,h,o,n\n",
      "P@y@t@h@o@n\n"
     ]
    }
   ],
   "source": [
    "s = \"Python\"\n",
    "print(s.lower())\n",
    "print(s.upper())\n",
    "print(\" \".join(s))\n",
    "print(\",\".join(s))\n",
    "print(\"@\".join(s))"
   ]
  },
  {
   "cell_type": "code",
   "execution_count": 20,
   "id": "baaf7199",
   "metadata": {},
   "outputs": [
    {
     "name": "stdout",
     "output_type": "stream",
     "text": [
      "['Python', 'is', 'simple', 'Programming', 'Language']\n",
      "['Python i', ' ', 'imple Programming Language']\n",
      "['Python is simple Progr', 'mming L', 'ngu', 'ge']\n"
     ]
    }
   ],
   "source": [
    "# Split method\n",
    "s = \"Python is simple Programming Language\"\n",
    "print(s.split())\n",
    "print(s.split(\"s\"))\n",
    "print(s.split(\"a\"))\n"
   ]
  },
  {
   "cell_type": "code",
   "execution_count": 21,
   "id": "e6f9bdd1",
   "metadata": {},
   "outputs": [
    {
     "name": "stdout",
     "output_type": "stream",
     "text": [
      "Python is Easy Programming Language\n"
     ]
    }
   ],
   "source": [
    "# Replace method\n",
    "s = \"Python is simple Programming Language\"\n",
    "print(s.replace(\"simple\",\"Easy\"))"
   ]
  },
  {
   "cell_type": "markdown",
   "id": "3998c9c5",
   "metadata": {},
   "source": [
    "# Boolean functions\n",
    "- islower()\n",
    "- isupper()\n",
    "- istitile()\n",
    "- isnumeric()\n",
    "- isspace()\n",
    "- isalpha()"
   ]
  },
  {
   "cell_type": "code",
   "execution_count": 24,
   "id": "c9e100a8",
   "metadata": {},
   "outputs": [
    {
     "name": "stdout",
     "output_type": "stream",
     "text": [
      "True\n"
     ]
    }
   ],
   "source": [
    "s = \"PYTHON\"\n",
    "print(s.isupper())"
   ]
  },
  {
   "cell_type": "code",
   "execution_count": 28,
   "id": "b837c615",
   "metadata": {},
   "outputs": [
    {
     "name": "stdout",
     "output_type": "stream",
     "text": [
      "True\n"
     ]
    }
   ],
   "source": [
    "s = \"python\"\n",
    "print(s.islower())"
   ]
  },
  {
   "cell_type": "code",
   "execution_count": 30,
   "id": "505f8291",
   "metadata": {},
   "outputs": [
    {
     "name": "stdout",
     "output_type": "stream",
     "text": [
      "True\n"
     ]
    }
   ],
   "source": [
    "s1 = \"Python\"\n",
    "print(s1.istitle())"
   ]
  },
  {
   "cell_type": "code",
   "execution_count": 31,
   "id": "4127c626",
   "metadata": {},
   "outputs": [
    {
     "name": "stdout",
     "output_type": "stream",
     "text": [
      "True\n"
     ]
    }
   ],
   "source": [
    "s2 = \"1345680\"\n",
    "print(s2.isnumeric())"
   ]
  },
  {
   "cell_type": "code",
   "execution_count": 32,
   "id": "b547a30b",
   "metadata": {},
   "outputs": [
    {
     "name": "stdout",
     "output_type": "stream",
     "text": [
      "True\n"
     ]
    }
   ],
   "source": [
    "s3 = \" \"\n",
    "print(s3.isspace())"
   ]
  },
  {
   "cell_type": "markdown",
   "id": "187aba8f",
   "metadata": {},
   "source": [
    "# File handling\n",
    "- file handling play important role in making web application\n",
    "- in file handling to deal with any file we use **open** function\n",
    "- in this **open** function we will use 2 parameters\n",
    "filename mode\n",
    "- **mode**\n",
    "- **W** - write to file\n",
    "- **A** - Append to file\n",
    "- **R** - Read a file"
   ]
  },
  {
   "cell_type": "code",
   "execution_count": 34,
   "id": "0b49e7f1",
   "metadata": {},
   "outputs": [
    {
     "ename": "FileNotFoundError",
     "evalue": "[Errno 2] No such file or directory: 'Kiran.txt'",
     "output_type": "error",
     "traceback": [
      "\u001b[1;31m---------------------------------------------------------------------------\u001b[0m",
      "\u001b[1;31mFileNotFoundError\u001b[0m                         Traceback (most recent call last)",
      "\u001b[1;32m~\\AppData\\Local\\Temp/ipykernel_5204/1615377955.py\u001b[0m in \u001b[0;36m<module>\u001b[1;34m\u001b[0m\n\u001b[1;32m----> 1\u001b[1;33m \u001b[0mf\u001b[0m \u001b[1;33m=\u001b[0m \u001b[0mopen\u001b[0m\u001b[1;33m(\u001b[0m\u001b[1;34m\"Kiran.txt\"\u001b[0m\u001b[1;33m,\u001b[0m\u001b[1;34m\"r\"\u001b[0m\u001b[1;33m)\u001b[0m\u001b[1;33m\u001b[0m\u001b[1;33m\u001b[0m\u001b[0m\n\u001b[0m\u001b[0;32m      2\u001b[0m \u001b[0mprint\u001b[0m\u001b[1;33m(\u001b[0m\u001b[0mf\u001b[0m\u001b[1;33m.\u001b[0m\u001b[0mread\u001b[0m\u001b[1;33m(\u001b[0m\u001b[1;33m)\u001b[0m\u001b[1;33m)\u001b[0m\u001b[1;33m\u001b[0m\u001b[1;33m\u001b[0m\u001b[0m\n",
      "\u001b[1;31mFileNotFoundError\u001b[0m: [Errno 2] No such file or directory: 'Kiran.txt'"
     ]
    }
   ],
   "source": [
    "f = open(\"Kiran.txt\",\"r\")\n",
    "print(f.read())"
   ]
  },
  {
   "cell_type": "code",
   "execution_count": null,
   "id": "dee60884",
   "metadata": {},
   "outputs": [],
   "source": []
  }
 ],
 "metadata": {
  "kernelspec": {
   "display_name": "Python 3 (ipykernel)",
   "language": "python",
   "name": "python3"
  },
  "language_info": {
   "codemirror_mode": {
    "name": "ipython",
    "version": 3
   },
   "file_extension": ".py",
   "mimetype": "text/x-python",
   "name": "python",
   "nbconvert_exporter": "python",
   "pygments_lexer": "ipython3",
   "version": "3.9.7"
  }
 },
 "nbformat": 4,
 "nbformat_minor": 5
}
