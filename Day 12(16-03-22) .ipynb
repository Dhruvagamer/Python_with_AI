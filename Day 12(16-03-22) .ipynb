{
 "cells": [
  {
   "cell_type": "markdown",
   "id": "74152b49",
   "metadata": {},
   "source": [
    "# Object Oriented Programming\n",
    "- python supports different programming approach \n",
    "- One of the popular approach to solve programs by creating object and it is object oriented programming\n",
    "- Object has two characterstics; one is attribute and second is behaviour\n",
    "- Example : Parrot is an object : name,age,colour as attributes \n",
    "- Singing,dancing,talking as Behaviours"
   ]
  },
  {
   "cell_type": "markdown",
   "id": "0bd37bd1",
   "metadata": {},
   "source": [
    "# Syntax"
   ]
  },
  {
   "cell_type": "code",
   "execution_count": 1,
   "id": "c2d0d675",
   "metadata": {},
   "outputs": [],
   "source": [
    "class Parrot:\n",
    "    pass # To Aviod Getting Error"
   ]
  },
  {
   "cell_type": "code",
   "execution_count": 2,
   "id": "0cf3c219",
   "metadata": {},
   "outputs": [
    {
     "name": "stdout",
     "output_type": "stream",
     "text": [
      "10\n"
     ]
    }
   ],
   "source": [
    "class Parrot:\n",
    "    x = 10\n",
    "obj = Parrot()\n",
    "print(obj.x)"
   ]
  },
  {
   "cell_type": "code",
   "execution_count": 4,
   "id": "d7774e66",
   "metadata": {},
   "outputs": [
    {
     "name": "stdout",
     "output_type": "stream",
     "text": [
      "Hello Im Kiran\n"
     ]
    }
   ],
   "source": [
    "# Create a method in class\n",
    "class cls:\n",
    "    # create a method\n",
    "    def test(self):\n",
    "        print(\"Hello Im Kiran\")\n",
    "obj1 = cls()\n",
    "obj1.test()"
   ]
  },
  {
   "cell_type": "code",
   "execution_count": 5,
   "id": "31a4f741",
   "metadata": {},
   "outputs": [
    {
     "name": "stdout",
     "output_type": "stream",
     "text": [
      "My Name Is : Kiran\n"
     ]
    }
   ],
   "source": [
    "class cls1:\n",
    "    def test1(self,name):\n",
    "        print(\"My Name Is :\",name)\n",
    "obj2 = cls1()\n",
    "obj2.test1(\"Kiran\")"
   ]
  },
  {
   "cell_type": "code",
   "execution_count": 13,
   "id": "02a02e60",
   "metadata": {},
   "outputs": [
    {
     "name": "stdout",
     "output_type": "stream",
     "text": [
      "60\n"
     ]
    }
   ],
   "source": [
    "# Add Three numbers\n",
    "class add:\n",
    "    v = 10\n",
    "    b = 20 \n",
    "    m = 30 \n",
    "    w = v+b+m\n",
    "obj3 = add()\n",
    "print(obj3.w)"
   ]
  },
  {
   "cell_type": "code",
   "execution_count": 15,
   "id": "2599febf",
   "metadata": {},
   "outputs": [
    {
     "name": "stdout",
     "output_type": "stream",
     "text": [
      "69\n"
     ]
    }
   ],
   "source": [
    "# Add 3 Numbers\n",
    "class add2():\n",
    "    def add2(self,a,b,c):\n",
    "        print(a+b+c)\n",
    "obj4 = add2()\n",
    "obj4.add2(10,50,9)\n"
   ]
  },
  {
   "cell_type": "markdown",
   "id": "58234bd2",
   "metadata": {},
   "source": [
    "# Constructor:"
   ]
  },
  {
   "cell_type": "code",
   "execution_count": 17,
   "id": "d8c4d88d",
   "metadata": {},
   "outputs": [
    {
     "name": "stdout",
     "output_type": "stream",
     "text": [
      "Kiran\n",
      "22\n"
     ]
    }
   ],
   "source": [
    "class Person:\n",
    "    def __init__(self,name,age):\n",
    "        self.name = name\n",
    "        self.age = age\n",
    "obj1 = Person(\"Kiran\",22)\n",
    "print(obj1.name)\n",
    "print(obj1.age)        "
   ]
  },
  {
   "cell_type": "code",
   "execution_count": 18,
   "id": "f0cd3ea5",
   "metadata": {},
   "outputs": [
    {
     "name": "stdout",
     "output_type": "stream",
     "text": [
      "My name is :Kiran\n",
      "Kiran\n",
      "22\n"
     ]
    }
   ],
   "source": [
    "class Person:\n",
    "    def __init__(self,name,age):\n",
    "        self.name = name\n",
    "        self.age = age\n",
    "    def mymethod(self):\n",
    "        print(\"My name is :\"+self.name)\n",
    "obj2 = Person(\"Kiran\",22)\n",
    "obj2.mymethod()\n",
    "print(obj1.name)\n",
    "print(obj1.age)\n",
    "        "
   ]
  },
  {
   "cell_type": "code",
   "execution_count": 19,
   "id": "fc092474",
   "metadata": {},
   "outputs": [
    {
     "name": "stdout",
     "output_type": "stream",
     "text": [
      "My name is :King\n",
      "King\n",
      "25\n"
     ]
    }
   ],
   "source": [
    "class Person:\n",
    "    def __init__(self,name,age):\n",
    "        self.name = name\n",
    "        self.age = age\n",
    "    def mymethod(self):\n",
    "        print(\"My name is :\"+self.name)\n",
    "obj2 = Person(\"Kiran\",22)\n",
    "obj2.age = 25\n",
    "obj2.name = \"King\"\n",
    "obj2.mymethod()\n",
    "print(obj2.name)\n",
    "print(obj2.age)\n"
   ]
  },
  {
   "cell_type": "code",
   "execution_count": 32,
   "id": "bb67f39d",
   "metadata": {},
   "outputs": [
    {
     "name": "stdout",
     "output_type": "stream",
     "text": [
      "My name is :Kiran\n",
      "22\n"
     ]
    },
    {
     "ename": "AttributeError",
     "evalue": "'Person' object has no attribute 'name'",
     "output_type": "error",
     "traceback": [
      "\u001b[1;31m---------------------------------------------------------------------------\u001b[0m",
      "\u001b[1;31mAttributeError\u001b[0m                            Traceback (most recent call last)",
      "\u001b[1;32m~\\AppData\\Local\\Temp/ipykernel_14192/2005985337.py\u001b[0m in \u001b[0;36m<module>\u001b[1;34m\u001b[0m\n\u001b[0;32m      9\u001b[0m \u001b[1;32mdel\u001b[0m \u001b[0mobj2\u001b[0m\u001b[1;33m.\u001b[0m\u001b[0mname\u001b[0m\u001b[1;33m\u001b[0m\u001b[1;33m\u001b[0m\u001b[0m\n\u001b[0;32m     10\u001b[0m \u001b[0mprint\u001b[0m\u001b[1;33m(\u001b[0m\u001b[0mobj2\u001b[0m\u001b[1;33m.\u001b[0m\u001b[0mage\u001b[0m\u001b[1;33m)\u001b[0m\u001b[1;33m\u001b[0m\u001b[1;33m\u001b[0m\u001b[0m\n\u001b[1;32m---> 11\u001b[1;33m \u001b[0mprint\u001b[0m\u001b[1;33m(\u001b[0m\u001b[0mobj2\u001b[0m\u001b[1;33m.\u001b[0m\u001b[0mname\u001b[0m\u001b[1;33m)\u001b[0m\u001b[1;33m\u001b[0m\u001b[1;33m\u001b[0m\u001b[0m\n\u001b[0m",
      "\u001b[1;31mAttributeError\u001b[0m: 'Person' object has no attribute 'name'"
     ]
    }
   ],
   "source": [
    "class Person:\n",
    "    def __init__(self,name,age):\n",
    "        self.name = name\n",
    "        self.age = age\n",
    "    def mymethod(self):\n",
    "        print(\"My name is :\"+self.name)\n",
    "obj2 = Person(\"Kiran\",22)\n",
    "obj2.mymethod()\n",
    "del obj2.name\n",
    "print(obj2.age)\n",
    "print(obj2.name)\n"
   ]
  },
  {
   "cell_type": "markdown",
   "id": "ecd56a85",
   "metadata": {},
   "source": [
    "# Inheritance:\n",
    "- it is way of creating a new class using details of existing class without modifying it"
   ]
  },
  {
   "cell_type": "code",
   "execution_count": 33,
   "id": "cc62fb27",
   "metadata": {},
   "outputs": [
    {
     "name": "stdout",
     "output_type": "stream",
     "text": [
      "Parrot is ready\n",
      "Parrot\n",
      "Fly Fast\n"
     ]
    }
   ],
   "source": [
    "class Bird: #parent class\n",
    "    def __init__(self):\n",
    "        print(\"Bird is ready\")\n",
    "    def whozthis(self):\n",
    "        print(\"Bird\")\n",
    "    def fast(self):\n",
    "        print(\"Fly Fast\")\n",
    "class Parrot(Bird): #child class\n",
    "    def __init__(self):\n",
    "        print(\"Parrot is ready\")\n",
    "    def whozthis(self):\n",
    "        print(\"Parrot\")\n",
    "    def run(self):\n",
    "        print(\"Run faster\")\n",
    "obj = Parrot()\n",
    "obj.whozthis()\n",
    "obj.fast()\n",
    "    "
   ]
  },
  {
   "cell_type": "code",
   "execution_count": null,
   "id": "b5ee3191",
   "metadata": {},
   "outputs": [],
   "source": []
  }
 ],
 "metadata": {
  "kernelspec": {
   "display_name": "Python 3 (ipykernel)",
   "language": "python",
   "name": "python3"
  },
  "language_info": {
   "codemirror_mode": {
    "name": "ipython",
    "version": 3
   },
   "file_extension": ".py",
   "mimetype": "text/x-python",
   "name": "python",
   "nbconvert_exporter": "python",
   "pygments_lexer": "ipython3",
   "version": "3.9.7"
  }
 },
 "nbformat": 4,
 "nbformat_minor": 5
}
